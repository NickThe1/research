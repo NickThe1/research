{
 "cells": [
  {
   "cell_type": "code",
   "execution_count": 2,
   "id": "ce90ba3e",
   "metadata": {
    "tags": []
   },
   "outputs": [],
   "source": [
    "import numpy as np\n",
    "import pandas as pd\n",
    "import matplotlib.pyplot as plt\n",
    "from typing import List, Tuple\n",
    "from collections import deque\n",
    "from tabulate import tabulate"
   ]
  },
  {
   "cell_type": "markdown",
   "id": "99081362",
   "metadata": {},
   "source": [
    "# Binomial case"
   ]
  },
  {
   "cell_type": "markdown",
   "id": "b1a3bd0f",
   "metadata": {},
   "source": [
    "## Matrix generation"
   ]
  },
  {
   "cell_type": "code",
   "execution_count": 3,
   "id": "a12a3e3a-1eed-4182-8dc5-cbe9079689c6",
   "metadata": {},
   "outputs": [],
   "source": [
    "k = 10\n",
    "p = 0.7\n",
    "\n",
    "def generate_matrix(p: int, k: int) -> np.array:\n",
    "    return np.random.binomial(1, p, size=(k, k))"
   ]
  },
  {
   "cell_type": "code",
   "execution_count": 4,
   "id": "93d1807e",
   "metadata": {},
   "outputs": [
    {
     "data": {
      "text/plain": [
       "array([[1, 1, 0, 0, 1, 1, 0, 1, 0, 1],\n",
       "       [0, 0, 0, 1, 1, 0, 0, 1, 1, 1],\n",
       "       [1, 1, 1, 1, 1, 0, 0, 1, 1, 1],\n",
       "       [1, 1, 0, 0, 0, 1, 1, 0, 1, 1],\n",
       "       [1, 1, 0, 0, 1, 1, 1, 1, 1, 0],\n",
       "       [1, 1, 1, 1, 0, 1, 1, 1, 1, 0],\n",
       "       [1, 1, 0, 1, 1, 1, 1, 1, 0, 1],\n",
       "       [1, 1, 0, 1, 1, 1, 1, 1, 0, 1],\n",
       "       [1, 0, 1, 1, 1, 0, 1, 1, 1, 1],\n",
       "       [1, 1, 1, 0, 1, 0, 0, 1, 1, 1]])"
      ]
     },
     "execution_count": 4,
     "metadata": {},
     "output_type": "execute_result"
    }
   ],
   "source": [
    "matrix = generate_matrix(p=p, k=k)\n",
    "matrix"
   ]
  },
  {
   "cell_type": "code",
   "execution_count": 5,
   "id": "7838deb9",
   "metadata": {},
   "outputs": [],
   "source": [
    "def find_longest_sequence(matrix: np.array, start: Tuple[int]) -> int:\n",
    "    max_len = 0\n",
    "    rows, cols = matrix.shape\n",
    "    queue = deque([(start[0], start[1], 1)])\n",
    "    visited = set([(start[0], start[1])])\n",
    "    while queue:\n",
    "        i, j, length = queue.popleft()\n",
    "        max_len = max(max_len, length)\n",
    "        for x, y in [(i+1,j),(i,j+1)]:\n",
    "            if x < rows and y < cols and matrix[x][y] == 1 and (x, y) not in visited:\n",
    "                visited.add((x, y))\n",
    "                queue.append((x, y, length+1))\n",
    "    return max_len"
   ]
  },
  {
   "cell_type": "code",
   "execution_count": 6,
   "id": "76884381",
   "metadata": {},
   "outputs": [
    {
     "data": {
      "text/plain": [
       "2"
      ]
     },
     "execution_count": 6,
     "metadata": {},
     "output_type": "execute_result"
    }
   ],
   "source": [
    "start = (0, 0)\n",
    "\n",
    "find_longest_sequence(matrix, start)"
   ]
  },
  {
   "cell_type": "code",
   "execution_count": 7,
   "id": "259acecd",
   "metadata": {},
   "outputs": [],
   "source": [
    "def generate_expected_values(matrix: np.array) -> np.array:\n",
    "    shape = matrix.shape[0]\n",
    "    expected_matrix = np.zeros_like(matrix, dtype=float)\n",
    "    for i in range(matrix.shape[0]):\n",
    "        for j in range(matrix.shape[1]):\n",
    "            expected_matrix[i,j] = find_longest_sequence(matrix, (i, j)) / shape\n",
    "    return expected_matrix"
   ]
  },
  {
   "cell_type": "code",
   "execution_count": 8,
   "id": "caf09ddc",
   "metadata": {},
   "outputs": [
    {
     "data": {
      "text/plain": [
       "array([[0.2, 0.1, 0.1, 0.4, 0.3, 0.1, 0.8, 0.7, 0.6, 0.4],\n",
       "       [1.8, 1.7, 0.4, 0.3, 0.2, 0.1, 0.7, 0.6, 0.5, 0.3],\n",
       "       [1.7, 1.6, 0.3, 0.2, 0.1, 1.2, 1.1, 0.5, 0.4, 0.2],\n",
       "       [1.6, 1.5, 0.1, 0.1, 1.2, 1.1, 1. , 0.9, 0.3, 0.1],\n",
       "       [1.5, 1.4, 1.3, 1.2, 1.1, 1. , 0.9, 0.8, 0.2, 0.1],\n",
       "       [1.4, 1.3, 1.2, 1.1, 1. , 0.9, 0.8, 0.7, 0.1, 0.5],\n",
       "       [0.6, 0.2, 1.1, 1. , 0.9, 0.8, 0.7, 0.6, 0.5, 0.4],\n",
       "       [0.5, 0.1, 1. , 0.9, 0.8, 0.7, 0.6, 0.5, 0.4, 0.3],\n",
       "       [0.4, 0.5, 0.4, 0.3, 0.2, 0.6, 0.5, 0.4, 0.3, 0.2],\n",
       "       [0.3, 0.2, 0.1, 0.2, 0.1, 0.1, 0.4, 0.3, 0.2, 0.1]])"
      ]
     },
     "execution_count": 8,
     "metadata": {},
     "output_type": "execute_result"
    }
   ],
   "source": [
    "expected_matrix = generate_expected_values(matrix)\n",
    "expected_matrix"
   ]
  },
  {
   "cell_type": "code",
   "execution_count": 9,
   "id": "cf421564",
   "metadata": {},
   "outputs": [],
   "source": [
    "def generate_expected_volume(expected_matrix: np.array) -> float:\n",
    "    return np.mean(expected_matrix) "
   ]
  },
  {
   "cell_type": "code",
   "execution_count": 10,
   "id": "b5a2695c",
   "metadata": {},
   "outputs": [
    {
     "data": {
      "text/plain": [
       "0.624"
      ]
     },
     "execution_count": 10,
     "metadata": {},
     "output_type": "execute_result"
    }
   ],
   "source": [
    "generate_expected_volume(expected_matrix)"
   ]
  },
  {
   "cell_type": "code",
   "execution_count": 17,
   "id": "24d059e5",
   "metadata": {},
   "outputs": [],
   "source": [
    "def simmulation(n: int, p: float, k: int):\n",
    "    expected_matrix_sum = None\n",
    "    expected_volume_sum = 0\n",
    "    trace_expected_volume = np.zeros(n)\n",
    "    \n",
    "    for i in range(n):\n",
    "        matrix = generate_matrix(p=p, k=k)\n",
    "        expected_matrix = generate_expected_values(matrix)\n",
    "        expected_volume = generate_expected_volume(expected_matrix)\n",
    "        \n",
    "        if i == 0:\n",
    "            expected_matrix_sum = np.zeros_like(matrix, dtype=float)\n",
    "            \n",
    "        expected_matrix_sum += expected_matrix\n",
    "        expected_volume_sum += expected_volume\n",
    "        trace_expected_volume[i] = expected_volume\n",
    "    \n",
    "        if i%100 == 0:\n",
    "            print(f\"{i} iteration\")\n",
    "    \n",
    "    return expected_matrix_sum / n, expected_volume_sum / n, trace_expected_volume.std()"
   ]
  },
  {
   "cell_type": "code",
   "execution_count": 91,
   "id": "3dfd7c40",
   "metadata": {},
   "outputs": [
    {
     "name": "stdout",
     "output_type": "stream",
     "text": [
      "0 iteration\n",
      "500 iteration\n",
      "1000 iteration\n",
      "1500 iteration\n",
      "2000 iteration\n",
      "2500 iteration\n",
      "3000 iteration\n",
      "3500 iteration\n",
      "4000 iteration\n",
      "4500 iteration\n",
      "5000 iteration\n",
      "5500 iteration\n",
      "6000 iteration\n",
      "6500 iteration\n",
      "7000 iteration\n",
      "7500 iteration\n",
      "8000 iteration\n",
      "8500 iteration\n",
      "9000 iteration\n",
      "9500 iteration\n"
     ]
    }
   ],
   "source": [
    "k = 8\n",
    "p = 0.5\n",
    "n = 10_000\n",
    "\n",
    "expected_matrix, expected_volume, volume_std = simmulation(n, p, k)"
   ]
  },
  {
   "cell_type": "code",
   "execution_count": 92,
   "id": "ad26ea4d",
   "metadata": {},
   "outputs": [
    {
     "data": {
      "text/plain": [
       "array([[1.8332375, 1.7118125, 1.589975 , 1.4632875, 1.335025 , 1.1926625,\n",
       "        1.0096875, 0.704625 ],\n",
       "       [1.71025  , 1.590375 , 1.4641125, 1.3399875, 1.214575 , 1.0775   ,\n",
       "        0.9099875, 0.6445875],\n",
       "       [1.5889875, 1.4662125, 1.341025 , 1.2184125, 1.092125 , 0.9603375,\n",
       "        0.809425 , 0.5789375],\n",
       "       [1.4642375, 1.3382625, 1.2204875, 1.094225 , 0.9698125, 0.8434375,\n",
       "        0.7047125, 0.5061625],\n",
       "       [1.3334125, 1.214425 , 1.0936625, 0.9706375, 0.8478125, 0.7238375,\n",
       "        0.593    , 0.425475 ],\n",
       "       [1.19295  , 1.0783625, 0.9609   , 0.8433   , 0.72455  , 0.6025375,\n",
       "        0.478075 , 0.3368875],\n",
       "       [1.0151375, 0.9173875, 0.8134875, 0.706275 , 0.59495  , 0.479125 ,\n",
       "        0.3592875, 0.2370125],\n",
       "       [0.7135   , 0.6509625, 0.5859375, 0.512875 , 0.431375 , 0.3396375,\n",
       "        0.2370125, 0.125    ]])"
      ]
     },
     "execution_count": 92,
     "metadata": {},
     "output_type": "execute_result"
    }
   ],
   "source": [
    "expected_matrix"
   ]
  },
  {
   "cell_type": "code",
   "execution_count": 93,
   "id": "7c2f4207",
   "metadata": {},
   "outputs": [
    {
     "data": {
      "text/plain": [
       "0.939488671875"
      ]
     },
     "execution_count": 93,
     "metadata": {},
     "output_type": "execute_result"
    }
   ],
   "source": [
    "expected_volume"
   ]
  },
  {
   "cell_type": "code",
   "execution_count": 94,
   "id": "00ab6da5",
   "metadata": {},
   "outputs": [
    {
     "data": {
      "text/plain": [
       "0.05871167393786089"
      ]
     },
     "execution_count": 94,
     "metadata": {},
     "output_type": "execute_result"
    }
   ],
   "source": [
    "volume_std"
   ]
  },
  {
   "cell_type": "markdown",
   "id": "77922b2b",
   "metadata": {},
   "source": [
    "### P increase"
   ]
  },
  {
   "cell_type": "code",
   "execution_count": 19,
   "id": "753c2162",
   "metadata": {},
   "outputs": [
    {
     "name": "stdout",
     "output_type": "stream",
     "text": [
      "0 iteration\n",
      "100 iteration\n",
      "200 iteration\n",
      "300 iteration\n",
      "400 iteration\n",
      "0 iteration\n",
      "100 iteration\n",
      "200 iteration\n",
      "300 iteration\n",
      "400 iteration\n",
      "0 iteration\n",
      "100 iteration\n",
      "200 iteration\n",
      "300 iteration\n",
      "400 iteration\n",
      "0 iteration\n",
      "100 iteration\n",
      "200 iteration\n",
      "300 iteration\n",
      "400 iteration\n",
      "0 iteration\n",
      "100 iteration\n",
      "200 iteration\n",
      "300 iteration\n",
      "400 iteration\n",
      "0 iteration\n",
      "100 iteration\n",
      "200 iteration\n",
      "300 iteration\n",
      "400 iteration\n",
      "0 iteration\n",
      "100 iteration\n",
      "200 iteration\n",
      "300 iteration\n",
      "400 iteration\n",
      "0 iteration\n",
      "100 iteration\n",
      "200 iteration\n",
      "300 iteration\n",
      "400 iteration\n",
      "0 iteration\n",
      "100 iteration\n",
      "200 iteration\n",
      "300 iteration\n",
      "400 iteration\n"
     ]
    }
   ],
   "source": [
    "p = [i/10 for i in range(1,10)]\n",
    "k = 35\n",
    "n = 500\n",
    "\n",
    "results = []\n",
    "\n",
    "for i in p:\n",
    "    expected_matrix, expected_volume, volume_std = simmulation(n, i, k)\n",
    "    results.append((expected_volume, volume_std))"
   ]
  },
  {
   "cell_type": "code",
   "execution_count": 20,
   "id": "90af60cd",
   "metadata": {},
   "outputs": [
    {
     "data": {
      "text/html": [
       "<div>\n",
       "<style scoped>\n",
       "    .dataframe tbody tr th:only-of-type {\n",
       "        vertical-align: middle;\n",
       "    }\n",
       "\n",
       "    .dataframe tbody tr th {\n",
       "        vertical-align: top;\n",
       "    }\n",
       "\n",
       "    .dataframe thead th {\n",
       "        text-align: right;\n",
       "    }\n",
       "</style>\n",
       "<table border=\"1\" class=\"dataframe\">\n",
       "  <thead>\n",
       "    <tr style=\"text-align: right;\">\n",
       "      <th></th>\n",
       "      <th>expected volume</th>\n",
       "      <th>std</th>\n",
       "    </tr>\n",
       "  </thead>\n",
       "  <tbody>\n",
       "    <tr>\n",
       "      <th>0.1</th>\n",
       "      <td>0.035042</td>\n",
       "      <td>0.000735</td>\n",
       "    </tr>\n",
       "    <tr>\n",
       "      <th>0.2</th>\n",
       "      <td>0.044355</td>\n",
       "      <td>0.001524</td>\n",
       "    </tr>\n",
       "    <tr>\n",
       "      <th>0.3</th>\n",
       "      <td>0.058661</td>\n",
       "      <td>0.003216</td>\n",
       "    </tr>\n",
       "    <tr>\n",
       "      <th>0.4</th>\n",
       "      <td>0.082656</td>\n",
       "      <td>0.006835</td>\n",
       "    </tr>\n",
       "    <tr>\n",
       "      <th>0.5</th>\n",
       "      <td>0.131943</td>\n",
       "      <td>0.017203</td>\n",
       "    </tr>\n",
       "    <tr>\n",
       "      <th>0.6</th>\n",
       "      <td>0.252181</td>\n",
       "      <td>0.048340</td>\n",
       "    </tr>\n",
       "    <tr>\n",
       "      <th>0.7</th>\n",
       "      <td>0.531831</td>\n",
       "      <td>0.083351</td>\n",
       "    </tr>\n",
       "    <tr>\n",
       "      <th>0.8</th>\n",
       "      <td>0.814380</td>\n",
       "      <td>0.042877</td>\n",
       "    </tr>\n",
       "    <tr>\n",
       "      <th>0.9</th>\n",
       "      <td>0.942409</td>\n",
       "      <td>0.020426</td>\n",
       "    </tr>\n",
       "  </tbody>\n",
       "</table>\n",
       "</div>"
      ],
      "text/plain": [
       "     expected volume       std\n",
       "0.1         0.035042  0.000735\n",
       "0.2         0.044355  0.001524\n",
       "0.3         0.058661  0.003216\n",
       "0.4         0.082656  0.006835\n",
       "0.5         0.131943  0.017203\n",
       "0.6         0.252181  0.048340\n",
       "0.7         0.531831  0.083351\n",
       "0.8         0.814380  0.042877\n",
       "0.9         0.942409  0.020426"
      ]
     },
     "execution_count": 20,
     "metadata": {},
     "output_type": "execute_result"
    }
   ],
   "source": [
    "df = pd.DataFrame(results, columns=['expected volume', 'std'], index=p)\n",
    "df"
   ]
  },
  {
   "cell_type": "code",
   "execution_count": 21,
   "id": "41d2a28c",
   "metadata": {},
   "outputs": [
    {
     "data": {
      "text/plain": [
       "Text(0.5, 1.0, 'Results')"
      ]
     },
     "execution_count": 21,
     "metadata": {},
     "output_type": "execute_result"
    },
    {
     "data": {
      "image/png": "[encoded data removed]",
      "text/plain": [
       "<Figure size 720x600 with 1 Axes>"
      ]
     },
     "metadata": {
      "needs_background": "light"
     },
     "output_type": "display_data"
    }
   ],
   "source": [
    "fig, ax = plt.subplots(figsize=(6, 5), dpi=120)\n",
    "df.plot(kind='line', marker='o', ax=ax)\n",
    "\n",
    "ax.set_xlabel('p')\n",
    "ax.set_ylabel('Values')\n",
    "ax.set_title('Results')"
   ]
  },
  {
   "cell_type": "markdown",
   "id": "e24322c3",
   "metadata": {},
   "source": [
    "### K increase"
   ]
  },
  {
   "cell_type": "code",
   "execution_count": 99,
   "id": "35d26890",
   "metadata": {},
   "outputs": [
    {
     "name": "stdout",
     "output_type": "stream",
     "text": [
      "0 iteration\n",
      "500 iteration\n",
      "0 iteration\n",
      "500 iteration\n",
      "0 iteration\n",
      "500 iteration\n",
      "0 iteration\n",
      "500 iteration\n",
      "0 iteration\n",
      "500 iteration\n",
      "0 iteration\n",
      "500 iteration\n",
      "0 iteration\n",
      "500 iteration\n",
      "0 iteration\n",
      "500 iteration\n",
      "0 iteration\n",
      "500 iteration\n",
      "0 iteration\n",
      "500 iteration\n",
      "0 iteration\n",
      "500 iteration\n",
      "0 iteration\n",
      "500 iteration\n",
      "0 iteration\n",
      "500 iteration\n",
      "0 iteration\n",
      "500 iteration\n",
      "0 iteration\n",
      "500 iteration\n",
      "0 iteration\n",
      "500 iteration\n",
      "0 iteration\n",
      "500 iteration\n",
      "0 iteration\n",
      "500 iteration\n",
      "0 iteration\n",
      "500 iteration\n",
      "0 iteration\n",
      "500 iteration\n",
      "0 iteration\n",
      "500 iteration\n",
      "0 iteration\n",
      "500 iteration\n",
      "0 iteration\n",
      "500 iteration\n",
      "0 iteration\n",
      "500 iteration\n",
      "0 iteration\n",
      "500 iteration\n",
      "0 iteration\n",
      "500 iteration\n",
      "0 iteration\n",
      "500 iteration\n",
      "0 iteration\n",
      "500 iteration\n",
      "0 iteration\n",
      "500 iteration\n",
      "0 iteration\n",
      "500 iteration\n",
      "0 iteration\n",
      "500 iteration\n"
     ]
    }
   ],
   "source": [
    "p = 0.5\n",
    "n = 1_000\n",
    "\n",
    "results = []\n",
    "\n",
    "for i in range(20, 51):\n",
    "    expected_matrix, expected_volume, volume_std = simmulation(n, p, i)\n",
    "    results.append((expected_volume, volume_std))"
   ]
  },
  {
   "cell_type": "code",
   "execution_count": 104,
   "id": "64a096c8",
   "metadata": {},
   "outputs": [
    {
     "data": {
      "text/html": [
       "<div>\n",
       "<style scoped>\n",
       "    .dataframe tbody tr th:only-of-type {\n",
       "        vertical-align: middle;\n",
       "    }\n",
       "\n",
       "    .dataframe tbody tr th {\n",
       "        vertical-align: top;\n",
       "    }\n",
       "\n",
       "    .dataframe thead th {\n",
       "        text-align: right;\n",
       "    }\n",
       "</style>\n",
       "<table border=\"1\" class=\"dataframe\">\n",
       "  <thead>\n",
       "    <tr style=\"text-align: right;\">\n",
       "      <th></th>\n",
       "      <th>expected volume</th>\n",
       "      <th>std</th>\n",
       "      <th>std/volume ratio</th>\n",
       "    </tr>\n",
       "  </thead>\n",
       "  <tbody>\n",
       "    <tr>\n",
       "      <th>20</th>\n",
       "      <td>0.209742</td>\n",
       "      <td>0.038469</td>\n",
       "      <td>0.183411</td>\n",
       "    </tr>\n",
       "    <tr>\n",
       "      <th>21</th>\n",
       "      <td>0.201437</td>\n",
       "      <td>0.035473</td>\n",
       "      <td>0.176100</td>\n",
       "    </tr>\n",
       "    <tr>\n",
       "      <th>22</th>\n",
       "      <td>0.194327</td>\n",
       "      <td>0.033164</td>\n",
       "      <td>0.170662</td>\n",
       "    </tr>\n",
       "    <tr>\n",
       "      <th>23</th>\n",
       "      <td>0.187779</td>\n",
       "      <td>0.032055</td>\n",
       "      <td>0.170704</td>\n",
       "    </tr>\n",
       "    <tr>\n",
       "      <th>24</th>\n",
       "      <td>0.181185</td>\n",
       "      <td>0.030141</td>\n",
       "      <td>0.166356</td>\n",
       "    </tr>\n",
       "    <tr>\n",
       "      <th>25</th>\n",
       "      <td>0.176278</td>\n",
       "      <td>0.028849</td>\n",
       "      <td>0.163657</td>\n",
       "    </tr>\n",
       "    <tr>\n",
       "      <th>26</th>\n",
       "      <td>0.170888</td>\n",
       "      <td>0.027190</td>\n",
       "      <td>0.159112</td>\n",
       "    </tr>\n",
       "    <tr>\n",
       "      <th>27</th>\n",
       "      <td>0.164463</td>\n",
       "      <td>0.025936</td>\n",
       "      <td>0.157698</td>\n",
       "    </tr>\n",
       "    <tr>\n",
       "      <th>28</th>\n",
       "      <td>0.159741</td>\n",
       "      <td>0.023633</td>\n",
       "      <td>0.147944</td>\n",
       "    </tr>\n",
       "    <tr>\n",
       "      <th>29</th>\n",
       "      <td>0.155058</td>\n",
       "      <td>0.023735</td>\n",
       "      <td>0.153069</td>\n",
       "    </tr>\n",
       "    <tr>\n",
       "      <th>30</th>\n",
       "      <td>0.149693</td>\n",
       "      <td>0.021041</td>\n",
       "      <td>0.140562</td>\n",
       "    </tr>\n",
       "    <tr>\n",
       "      <th>31</th>\n",
       "      <td>0.145401</td>\n",
       "      <td>0.020262</td>\n",
       "      <td>0.139354</td>\n",
       "    </tr>\n",
       "    <tr>\n",
       "      <th>32</th>\n",
       "      <td>0.141144</td>\n",
       "      <td>0.019560</td>\n",
       "      <td>0.138578</td>\n",
       "    </tr>\n",
       "    <tr>\n",
       "      <th>33</th>\n",
       "      <td>0.138666</td>\n",
       "      <td>0.018004</td>\n",
       "      <td>0.129838</td>\n",
       "    </tr>\n",
       "    <tr>\n",
       "      <th>34</th>\n",
       "      <td>0.134489</td>\n",
       "      <td>0.017420</td>\n",
       "      <td>0.129530</td>\n",
       "    </tr>\n",
       "    <tr>\n",
       "      <th>35</th>\n",
       "      <td>0.130652</td>\n",
       "      <td>0.016435</td>\n",
       "      <td>0.125795</td>\n",
       "    </tr>\n",
       "    <tr>\n",
       "      <th>36</th>\n",
       "      <td>0.128289</td>\n",
       "      <td>0.015524</td>\n",
       "      <td>0.121006</td>\n",
       "    </tr>\n",
       "    <tr>\n",
       "      <th>37</th>\n",
       "      <td>0.125668</td>\n",
       "      <td>0.015731</td>\n",
       "      <td>0.125180</td>\n",
       "    </tr>\n",
       "    <tr>\n",
       "      <th>38</th>\n",
       "      <td>0.122249</td>\n",
       "      <td>0.015191</td>\n",
       "      <td>0.124267</td>\n",
       "    </tr>\n",
       "    <tr>\n",
       "      <th>39</th>\n",
       "      <td>0.119788</td>\n",
       "      <td>0.014298</td>\n",
       "      <td>0.119362</td>\n",
       "    </tr>\n",
       "    <tr>\n",
       "      <th>40</th>\n",
       "      <td>0.116739</td>\n",
       "      <td>0.013915</td>\n",
       "      <td>0.119200</td>\n",
       "    </tr>\n",
       "    <tr>\n",
       "      <th>41</th>\n",
       "      <td>0.114162</td>\n",
       "      <td>0.012943</td>\n",
       "      <td>0.113374</td>\n",
       "    </tr>\n",
       "    <tr>\n",
       "      <th>42</th>\n",
       "      <td>0.111545</td>\n",
       "      <td>0.012077</td>\n",
       "      <td>0.108271</td>\n",
       "    </tr>\n",
       "    <tr>\n",
       "      <th>43</th>\n",
       "      <td>0.109559</td>\n",
       "      <td>0.011884</td>\n",
       "      <td>0.108476</td>\n",
       "    </tr>\n",
       "    <tr>\n",
       "      <th>44</th>\n",
       "      <td>0.107950</td>\n",
       "      <td>0.012227</td>\n",
       "      <td>0.113268</td>\n",
       "    </tr>\n",
       "    <tr>\n",
       "      <th>45</th>\n",
       "      <td>0.105224</td>\n",
       "      <td>0.011021</td>\n",
       "      <td>0.104742</td>\n",
       "    </tr>\n",
       "    <tr>\n",
       "      <th>46</th>\n",
       "      <td>0.103151</td>\n",
       "      <td>0.010361</td>\n",
       "      <td>0.100446</td>\n",
       "    </tr>\n",
       "    <tr>\n",
       "      <th>47</th>\n",
       "      <td>0.100888</td>\n",
       "      <td>0.010409</td>\n",
       "      <td>0.103172</td>\n",
       "    </tr>\n",
       "    <tr>\n",
       "      <th>48</th>\n",
       "      <td>0.098596</td>\n",
       "      <td>0.009255</td>\n",
       "      <td>0.093865</td>\n",
       "    </tr>\n",
       "    <tr>\n",
       "      <th>49</th>\n",
       "      <td>0.096852</td>\n",
       "      <td>0.009110</td>\n",
       "      <td>0.094061</td>\n",
       "    </tr>\n",
       "    <tr>\n",
       "      <th>50</th>\n",
       "      <td>0.095118</td>\n",
       "      <td>0.009276</td>\n",
       "      <td>0.097520</td>\n",
       "    </tr>\n",
       "  </tbody>\n",
       "</table>\n",
       "</div>"
      ],
      "text/plain": [
       "    expected volume       std  std/volume ratio\n",
       "20         0.209742  0.038469          0.183411\n",
       "21         0.201437  0.035473          0.176100\n",
       "22         0.194327  0.033164          0.170662\n",
       "23         0.187779  0.032055          0.170704\n",
       "24         0.181185  0.030141          0.166356\n",
       "25         0.176278  0.028849          0.163657\n",
       "26         0.170888  0.027190          0.159112\n",
       "27         0.164463  0.025936          0.157698\n",
       "28         0.159741  0.023633          0.147944\n",
       "29         0.155058  0.023735          0.153069\n",
       "30         0.149693  0.021041          0.140562\n",
       "31         0.145401  0.020262          0.139354\n",
       "32         0.141144  0.019560          0.138578\n",
       "33         0.138666  0.018004          0.129838\n",
       "34         0.134489  0.017420          0.129530\n",
       "35         0.130652  0.016435          0.125795\n",
       "36         0.128289  0.015524          0.121006\n",
       "37         0.125668  0.015731          0.125180\n",
       "38         0.122249  0.015191          0.124267\n",
       "39         0.119788  0.014298          0.119362\n",
       "40         0.116739  0.013915          0.119200\n",
       "41         0.114162  0.012943          0.113374\n",
       "42         0.111545  0.012077          0.108271\n",
       "43         0.109559  0.011884          0.108476\n",
       "44         0.107950  0.012227          0.113268\n",
       "45         0.105224  0.011021          0.104742\n",
       "46         0.103151  0.010361          0.100446\n",
       "47         0.100888  0.010409          0.103172\n",
       "48         0.098596  0.009255          0.093865\n",
       "49         0.096852  0.009110          0.094061\n",
       "50         0.095118  0.009276          0.097520"
      ]
     },
     "execution_count": 104,
     "metadata": {},
     "output_type": "execute_result"
    }
   ],
   "source": [
    "df = pd.DataFrame(results, columns=['expected volume', 'std'], index=[i for i in range(20, 51)])\n",
    "df['std/volume ratio'] = df['std'] / df['expected volume']\n",
    "df"
   ]
  },
  {
   "cell_type": "code",
   "execution_count": 112,
   "id": "81994c64",
   "metadata": {},
   "outputs": [
    {
     "data": {
      "text/plain": [
       "Text(0.5, 1.0, 'Results')"
      ]
     },
     "execution_count": 112,
     "metadata": {},
     "output_type": "execute_result"
    },
    {
     "data": {
      "image/png": "[encoded data removed]",
      "text/plain": [
       "<Figure size 720x600 with 1 Axes>"
      ]
     },
     "metadata": {
      "needs_background": "light"
     },
     "output_type": "display_data"
    }
   ],
   "source": [
    "fig, ax = plt.subplots(figsize=(6, 5), dpi=120)\n",
    "df.plot(kind='line', marker='o', ax=ax)\n",
    "\n",
    "ax.set_xlabel('Tensor size')\n",
    "ax.set_ylabel('Values')\n",
    "ax.set_title('Results')"
   ]
  },
  {
   "cell_type": "code",
   "execution_count": 95,
   "id": "35a70b7d",
   "metadata": {},
   "outputs": [
    {
     "name": "stdout",
     "output_type": "stream",
     "text": [
      "\\begin{tabular}{rrrrrrrr}\n",
      "\\hline\n",
      " 1.83324 & 1.71181  & 1.58997  & 1.46329  & 1.33502  & 1.19266  & 1.00969  & 0.704625 \\\\\n",
      " 1.71025 & 1.59038  & 1.46411  & 1.33999  & 1.21457  & 1.0775   & 0.909987 & 0.644587 \\\\\n",
      " 1.58899 & 1.46621  & 1.34102  & 1.21841  & 1.09213  & 0.960337 & 0.809425 & 0.578937 \\\\\n",
      " 1.46424 & 1.33826  & 1.22049  & 1.09423  & 0.969812 & 0.843437 & 0.704712 & 0.506162 \\\\\n",
      " 1.33341 & 1.21443  & 1.09366  & 0.970638 & 0.847812 & 0.723838 & 0.593    & 0.425475 \\\\\n",
      " 1.19295 & 1.07836  & 0.9609   & 0.8433   & 0.72455  & 0.602537 & 0.478075 & 0.336888 \\\\\n",
      " 1.01514 & 0.917388 & 0.813488 & 0.706275 & 0.59495  & 0.479125 & 0.359287 & 0.237012 \\\\\n",
      " 0.7135  & 0.650962 & 0.585938 & 0.512875 & 0.431375 & 0.339637 & 0.237012 & 0.125    \\\\\n",
      "\\hline\n",
      "\\end{tabular}\n"
     ]
    }
   ],
   "source": [
    "result = tabulate(expected_matrix, tablefmt=\"latex\")\n",
    "print(result)"
   ]
  },
  {
   "cell_type": "code",
   "execution_count": null,
   "id": "dc1b9ecf",
   "metadata": {},
   "outputs": [],
   "source": []
  }
 ],
 "metadata": {
  "celltoolbar": "Отсутствует",
  "kernelspec": {
   "display_name": "Python 3 (ipykernel)",
   "language": "python",
   "name": "python3"
  },
  "language_info": {
   "codemirror_mode": {
    "name": "ipython",
    "version": 3
   },
   "file_extension": ".py",
   "mimetype": "text/x-python",
   "name": "python",
   "nbconvert_exporter": "python",
   "pygments_lexer": "ipython3",
   "version": "3.9.7"
  }
 },
 "nbformat": 4,
 "nbformat_minor": 5
}
